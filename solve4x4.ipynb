{
 "cells": [
  {
   "cell_type": "code",
   "execution_count": 2,
   "id": "c4039191-bcff-4b01-93cb-f85f6f6e8995",
   "metadata": {
    "tags": []
   },
   "outputs": [],
   "source": [
    "\"\"\"solve4x4.ipynb\"\"\"\n",
    "# Cell 1\n",
    "\n",
    "from __future__ import annotations\n",
    "\n",
    "import typing\n",
    "\n",
    "import numpy as np\n",
    "from IPython.core.display import Math\n",
    "\n",
    "if typing.TYPE_CHECKING:\n",
    "    from numpy.typing import NDArray\n",
    "\n",
    "\n",
    "def display_array(\n",
    "    a: NDArray[np.complex_], places: int = 5, column: bool = False, prefix: str = \"\"\n",
    ") -> None:\n",
    "    def strip(val: float) -> str:\n",
    "        frmt: str = \":.\" + str(places) + \"f\"\n",
    "        d: str = str(\"{v\" + frmt + \"}\").format(v=val)\n",
    "        while d[-1] == \"0\":\n",
    "            d = d[:-1]\n",
    "        if d[-1] == \".\":\n",
    "            d = d[:-1]\n",
    "        if float(d) == 0:\n",
    "            d = \"0\"\n",
    "        return d\n",
    "\n",
    "    m: NDArray[np.complex_] = np.copy(a)\n",
    "    if len(m.shape) == 1:\n",
    "        m = m[np.newaxis, :]\n",
    "        if column:\n",
    "            m = m.T\n",
    "    prec: float = 1 / 10**places\n",
    "    s: str = r\"\\begin{bmatrix}\"\n",
    "    for row in range(m.shape[0]):\n",
    "        for col in range(m.shape[1]):\n",
    "            v: np.complex_ = m[row, col]\n",
    "            real_comp: float = float(np.real(v))\n",
    "            imag_comp: float = float(np.imag(v))\n",
    "            is_imag_neg: bool = imag_comp < 0\n",
    "            is_real_zero: bool = bool(np.isclose(real_comp, 0, atol=prec))\n",
    "            is_imag_zero: bool = bool(np.isclose(imag_comp, 0, atol=prec))\n",
    "            is_imag_one: bool = bool(np.isclose(abs(imag_comp), 1, atol=prec))\n",
    "            if is_real_zero:\n",
    "                if is_imag_zero:\n",
    "                    s += \"0\"\n",
    "            else:\n",
    "                s += strip(real_comp)\n",
    "            if not is_imag_zero:\n",
    "                if is_imag_one:\n",
    "                    if is_imag_neg:\n",
    "                        s += r\"-i\"\n",
    "                    else:\n",
    "                        if not is_real_zero:\n",
    "                            s += \"+\"\n",
    "                        s += r\"i\"\n",
    "                else:\n",
    "                    if not is_real_zero and not is_imag_neg:\n",
    "                        s += \" + \"\n",
    "                    s += strip(imag_comp) + \"i\"\n",
    "            if col < m.shape[1] - 1:\n",
    "                s += \" &\"\n",
    "        s += r\"\\\\\"\n",
    "    s += r\"\\end{bmatrix}\"\n",
    "    display(Math(prefix + s))\n",
    "\n",
    "\n",
    "# TODO: Add your code below this"
   ]
  },
  {
   "cell_type": "code",
   "execution_count": 3,
   "id": "29007005-d4e4-4ac1-ac7c-ddfe7a748fc2",
   "metadata": {},
   "outputs": [
    {
     "data": {
      "text/latex": [
       "$\\displaystyle \\mathbf{Coeffs}=\\begin{bmatrix}1 &2 &1 &-1\\\\3 &2 &4 &4\\\\4 &4 &3 &4\\\\2 &0 &1 &5\\\\\\end{bmatrix}$"
      ],
      "text/plain": [
       "<IPython.core.display.Math object>"
      ]
     },
     "metadata": {},
     "output_type": "display_data"
    },
    {
     "data": {
      "text/latex": [
       "$\\displaystyle \\mathbf{Vals}=\\begin{bmatrix}5 &16 &22 &15\\\\\\end{bmatrix}$"
      ],
      "text/plain": [
       "<IPython.core.display.Math object>"
      ]
     },
     "metadata": {},
     "output_type": "display_data"
    },
    {
     "data": {
      "text/latex": [
       "$\\displaystyle x=16$"
      ],
      "text/plain": [
       "<IPython.core.display.Math object>"
      ]
     },
     "metadata": {},
     "output_type": "display_data"
    },
    {
     "data": {
      "text/latex": [
       "$\\displaystyle y=-6$"
      ],
      "text/plain": [
       "<IPython.core.display.Math object>"
      ]
     },
     "metadata": {},
     "output_type": "display_data"
    },
    {
     "data": {
      "text/latex": [
       "$\\displaystyle z=-2$"
      ],
      "text/plain": [
       "<IPython.core.display.Math object>"
      ]
     },
     "metadata": {},
     "output_type": "display_data"
    },
    {
     "data": {
      "text/latex": [
       "$\\displaystyle z=-3$"
      ],
      "text/plain": [
       "<IPython.core.display.Math object>"
      ]
     },
     "metadata": {},
     "output_type": "display_data"
    }
   ],
   "source": [
    "coeffs: NDArray[np.complex_] = np.array([[1,2,1,-1], [3,2,4,4], [4,4,3,4],[2,0,1,5]])\n",
    "vals: NDArray[np.complex_] = np.array([5,16,22,15])\n",
    "\n",
    "display_array(coeffs, prefix=r\"\\mathbf{Coeffs}=\")\n",
    "display_array(vals, prefix=r\"\\mathbf{Vals}=\")\n",
    "\n",
    "# Calculate determinant of coefficients matrix\n",
    "det_coeffs: NDArray[np.float_] = np.linalg.det(coeffs)\n",
    "\n",
    "# Overlay value vector on each column of the coeffs matrix\n",
    "xa: NDArray[np.float_] = np.copy(coeffs)\n",
    "xa[:, 0] = vals\n",
    "det_xa: float = np.linalg.det(xa)\n",
    "\n",
    "ya: NDArray[np.float_] = np.copy(coeffs)\n",
    "ya[:, 1] = vals\n",
    "det_ya: float = np.linalg.det(ya)\n",
    "\n",
    "za: NDArray[np.float_] = np.copy(coeffs)\n",
    "za[:, 2] = vals\n",
    "det_za: float = np.linalg.det(za)\n",
    "\n",
    "wa: NDArray[np.float_] = np.copy(coeffs)\n",
    "wa[:, 3] = vals\n",
    "det_wa: float = np.linalg.det(wa)\n",
    "\n",
    "# Use Cramer's rule to solve 3 x 3 system of linear equations\n",
    "x: NDArray[np.float_] = det_xa / det_coeffs\n",
    "y: NDArray[np.float_] = det_ya / det_coeffs\n",
    "z: NDArray[np.float_] = det_za / det_coeffs\n",
    "w = det_wa / det_coeffs\n",
    "\n",
    "display(Math(rf\"x={x:,.0f}\"))\n",
    "display(Math(rf\"y={y:,.0f}\"))\n",
    "display(Math(rf\"z={z:,.0f}\"))\n",
    "display(Math(rf\"w={w:,.0f}\"))"
   ]
  },
  {
   "cell_type": "code",
   "execution_count": null,
   "id": "d12ccf92-9cd6-4153-bdee-0bada81ba2e9",
   "metadata": {},
   "outputs": [],
   "source": []
  }
 ],
 "metadata": {
  "kernelspec": {
   "display_name": "Python 3 (ipykernel)",
   "language": "python",
   "name": "python3"
  },
  "language_info": {
   "codemirror_mode": {
    "name": "ipython",
    "version": 3
   },
   "file_extension": ".py",
   "mimetype": "text/x-python",
   "name": "python",
   "nbconvert_exporter": "python",
   "pygments_lexer": "ipython3",
   "version": "3.9.16"
  }
 },
 "nbformat": 4,
 "nbformat_minor": 5
}
