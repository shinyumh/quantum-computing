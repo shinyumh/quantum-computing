{
 "cells": [
  {
   "cell_type": "code",
   "execution_count": 5,
   "id": "283f451d-1f18-4209-83cb-c02b89d9ef24",
   "metadata": {},
   "outputs": [
    {
     "name": "stdout",
     "output_type": "stream",
     "text": [
      "(0.4980156680859663-0.1549498283019508j)\n"
     ]
    }
   ],
   "source": [
    "from scipy.integrate import quad\n",
    "import numpy as np\n",
    "\n",
    "# citation: based on professor's slides\n",
    "\n",
    "def f(x):\n",
    "    return np.exp(-x) * np.cos(np.log(x))\n",
    "\n",
    "def g(x):\n",
    "    return np.exp(-x) * np.sin(np.log(x))\n",
    "\n",
    "a = quad(f,0,10000)[0]\n",
    "b = quad(g,0,10000)[0]\n",
    "\n",
    "fact = complex(a,b)\n",
    "\n",
    "print(fact)"
   ]
  },
  {
   "cell_type": "code",
   "execution_count": null,
   "id": "e1db6621-9df0-4800-bc3e-c07925a13cb1",
   "metadata": {},
   "outputs": [],
   "source": []
  }
 ],
 "metadata": {
  "kernelspec": {
   "display_name": "Python 3 (ipykernel)",
   "language": "python",
   "name": "python3"
  },
  "language_info": {
   "codemirror_mode": {
    "name": "ipython",
    "version": 3
   },
   "file_extension": ".py",
   "mimetype": "text/x-python",
   "name": "python",
   "nbconvert_exporter": "python",
   "pygments_lexer": "ipython3",
   "version": "3.9.16"
  }
 },
 "nbformat": 4,
 "nbformat_minor": 5
}
