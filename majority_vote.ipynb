{
 "cells": [
  {
   "cell_type": "code",
   "execution_count": 1,
   "id": "523273cf-e961-48ad-a70d-7f01a18c5345",
   "metadata": {},
   "outputs": [],
   "source": [
    "import numpy as np\n",
    "\n",
    "a = np.array([[1],[0]])\n",
    "b = np.array([[0],[1]])\n",
    "\n",
    "notgate = np.array([[0,1],[1,0]])\n",
    "andgate = np.array([[1,1,1,0],[0,0,0,1]])\n",
    "orgate = np.array([[1,0,0,0],[0,1,1,1]])"
   ]
  },
  {
   "cell_type": "code",
   "execution_count": 6,
   "id": "feca8eb9-8142-448b-83b0-88a837fefe3c",
   "metadata": {},
   "outputs": [
    {
     "name": "stdout",
     "output_type": "stream",
     "text": [
      "i: [1,0]\n",
      "j: [1,0]\n",
      "k: [1,0]\n",
      "v: [1,0]\n",
      "i: [1,0]\n",
      "j: [1,0]\n",
      "k: [0,1]\n",
      "v: [1,0]\n",
      "i: [1,0]\n",
      "j: [0,1]\n",
      "k: [1,0]\n",
      "v: [1,0]\n",
      "i: [1,0]\n",
      "j: [0,1]\n",
      "k: [0,1]\n",
      "v: [0,1]\n",
      "i: [0,1]\n",
      "j: [1,0]\n",
      "k: [1,0]\n",
      "v: [1,0]\n",
      "i: [0,1]\n",
      "j: [1,0]\n",
      "k: [0,1]\n",
      "v: [0,1]\n",
      "i: [0,1]\n",
      "j: [0,1]\n",
      "k: [1,0]\n",
      "v: [0,1]\n",
      "i: [0,1]\n",
      "j: [0,1]\n",
      "k: [0,1]\n",
      "v: [0,1]\n"
     ]
    }
   ],
   "source": [
    "# citation: professor's answer\n",
    "\n",
    "def circuit(a,b,c):\n",
    "    # create gates using the and & or gates, as well as taking the kronecker product of input arrays\n",
    "    g1 = np.dot(andgate,np.kron(a,b))\n",
    "    g2 = np.dot(andgate,np.kron(b,c))\n",
    "    g3 = np.dot(andgate,np.kron(a,c))\n",
    "    g4 = np.dot(orgate,np.kron(g1,g2))\n",
    "    g5 = np.dot(orgate,np.kron(g3,g4))\n",
    "    return g5\n",
    "\n",
    "# print out the truth table\n",
    "for i in [a,b]:\n",
    "    for j in [a,b]:\n",
    "        for k in [a,b]:\n",
    "            print(f\"i: [{i[0][0]},{i[1][0]}]\")\n",
    "            print(f\"j: [{j[0][0]},{j[1][0]}]\")\n",
    "            print(f\"k: [{k[0][0]},{k[1][0]}]\")\n",
    "            v = circuit(i,j,k)\n",
    "            print(f\"v: [{v[0][0]},{v[1][0]}]\")"
   ]
  },
  {
   "cell_type": "code",
   "execution_count": null,
   "id": "58b927d0-9c18-4f33-ba87-f18a72f85109",
   "metadata": {},
   "outputs": [],
   "source": []
  }
 ],
 "metadata": {
  "kernelspec": {
   "display_name": "Python 3 (ipykernel)",
   "language": "python",
   "name": "python3"
  },
  "language_info": {
   "codemirror_mode": {
    "name": "ipython",
    "version": 3
   },
   "file_extension": ".py",
   "mimetype": "text/x-python",
   "name": "python",
   "nbconvert_exporter": "python",
   "pygments_lexer": "ipython3",
   "version": "3.9.16"
  }
 },
 "nbformat": 4,
 "nbformat_minor": 5
}
