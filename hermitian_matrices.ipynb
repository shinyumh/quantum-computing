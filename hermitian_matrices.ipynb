{
 "cells": [
  {
   "cell_type": "code",
   "execution_count": 31,
   "id": "a114f0a9-a0bf-4004-ba16-c135403f320e",
   "metadata": {
    "tags": []
   },
   "outputs": [
    {
     "data": {
      "text/latex": [
       "$\\displaystyle \\begin{bmatrix}0.00454 &-0.00704 + 0.02566i &0.01047-0.05089i\\\\-0.00704-0.02566i &0.05896 &0.01906 + 0.01969i\\\\0.01047 + 0.05089i &0.01906-0.01969i &-0.00503\\\\\\end{bmatrix}$"
      ],
      "text/plain": [
       "<IPython.core.display.Math object>"
      ]
     },
     "metadata": {},
     "output_type": "display_data"
    },
    {
     "data": {
      "text/plain": [
       "True"
      ]
     },
     "execution_count": 31,
     "metadata": {},
     "output_type": "execute_result"
    }
   ],
   "source": [
    "\"\"\"hermitian_matrices.ipynb\"\"\"\n",
    "\n",
    "# Cell 1 - The inverse of a Hermitian matrix is also Hermitian\n",
    "\n",
    "from __future__ import annotations\n",
    "\n",
    "import typing\n",
    "\n",
    "import numpy as np\n",
    "from IPython.core.display import Math\n",
    "\n",
    "if typing.TYPE_CHECKING:\n",
    "    from numpy.typing import NDArray\n",
    "\n",
    "\n",
    "def display_array(\n",
    "    a: NDArray[np.complex_], places: int = 5, column: bool = False, prefix: str = \"\"\n",
    ") -> None:\n",
    "    def strip(val: float) -> str:\n",
    "        frmt: str = \":.\" + str(places) + \"f\"\n",
    "        d: str = str(\"{v\" + frmt + \"}\").format(v=val)\n",
    "        while d[-1] == \"0\":\n",
    "            d = d[:-1]\n",
    "        if d[-1] == \".\":\n",
    "            d = d[:-1]\n",
    "        if float(d) == 0:\n",
    "            d = \"0\"\n",
    "        return d\n",
    "\n",
    "    m: NDArray[np.complex_] = np.copy(a)\n",
    "    if len(m.shape) == 1:\n",
    "        m = m[np.newaxis, :]\n",
    "        if column:\n",
    "            m = m.T\n",
    "    prec: float = 1 / 10**places\n",
    "    s: str = r\"\\begin{bmatrix}\"\n",
    "    for row in range(m.shape[0]):\n",
    "        for col in range(m.shape[1]):\n",
    "            v: np.complex_ = m[row, col]\n",
    "            real_comp: float = float(np.real(v))\n",
    "            imag_comp: float = float(np.imag(v))\n",
    "            is_imag_neg: bool = imag_comp < 0\n",
    "            is_real_zero: bool = bool(np.isclose(real_comp, 0, atol=prec))\n",
    "            is_imag_zero: bool = bool(np.isclose(imag_comp, 0, atol=prec))\n",
    "            is_imag_one: bool = bool(np.isclose(abs(imag_comp), 1, atol=prec))\n",
    "            if is_real_zero:\n",
    "                if is_imag_zero:\n",
    "                    s += \"0\"\n",
    "            else:\n",
    "                s += strip(real_comp)\n",
    "            if not is_imag_zero:\n",
    "                if is_imag_one:\n",
    "                    if is_imag_neg:\n",
    "                        s += r\"-i\"\n",
    "                    else:\n",
    "                        if not is_real_zero:\n",
    "                            s += \"+\"\n",
    "                        s += r\"i\"\n",
    "                else:\n",
    "                    if not is_real_zero and not is_imag_neg:\n",
    "                        s += \" + \"\n",
    "                    s += strip(imag_comp) + \"i\"\n",
    "            if col < m.shape[1] - 1:\n",
    "                s += \" &\"\n",
    "        s += r\"\\\\\"\n",
    "    s += r\"\\end{bmatrix}\"\n",
    "    display(Math(prefix + s))\n",
    "\n",
    "# assuming the matrix inputted is already a hermitian matrix\n",
    "def hermitianinv(mat):\n",
    "    \"\"\"checks if the inverse of the matrix inputted is a heritian matrix\"\"\"\n",
    "    inverse = np.linalg.inv(mat)\n",
    "    display_array(inverse)\n",
    "\n",
    "    # check if it is square\n",
    "    l,w = inverse.shape\n",
    "    if l != w: return False\n",
    "\n",
    "    # check if it is equal to own conjugate transpose\n",
    "    if not (np.isclose(inverse,inverse.getH()).all()): return False\n",
    "\n",
    "    return True\n",
    "\n",
    "a = np.matrix([[5,4+5j,6-16j],[4-5j,13,7],[6 + 16j, 7, 2.1]])\n",
    "hermitianinv(a)"
   ]
  },
  {
   "cell_type": "code",
   "execution_count": 32,
   "id": "ccf20f1b-fb7f-4246-b58c-dd7a01965f03",
   "metadata": {
    "tags": []
   },
   "outputs": [
    {
     "data": {
      "text/plain": [
       "True"
      ]
     },
     "execution_count": 32,
     "metadata": {},
     "output_type": "execute_result"
    }
   ],
   "source": [
    "# Cell 2 - A Hermitian matrix raised to an integer\n",
    "#          exponent yields another Hermitian matrix\n",
    "\n",
    "\n",
    "# assuming the matrix inputted is already a hermitian matrix\n",
    "def hermitianexp(mat):\n",
    "    \"\"\"checks if a matrix raiser to an integer exp is a heritian matrix\"\"\"\n",
    "    for i in range(50):\n",
    "        check = np.linalg.matrix_power(mat,i)\n",
    "        # display_array(check)\n",
    "\n",
    "        # check if it is square\n",
    "        l,w = check.shape\n",
    "        if l != w: return False\n",
    "    \n",
    "        # check if it is equal to own conjugate transpose\n",
    "        if not (np.isclose(check,check.getH()).all()): return False\n",
    "\n",
    "    return True\n",
    "\n",
    "a = np.matrix([[5,4+5j,6-16j],[4-5j,13,7],[6 + 16j, 7, 2.1]])\n",
    "hermitianexp(a)"
   ]
  },
  {
   "cell_type": "code",
   "execution_count": null,
   "id": "454f1611-3b6a-4009-8862-5aa03026426b",
   "metadata": {},
   "outputs": [],
   "source": []
  }
 ],
 "metadata": {
  "kernelspec": {
   "display_name": "Python 3 (ipykernel)",
   "language": "python",
   "name": "python3"
  },
  "language_info": {
   "codemirror_mode": {
    "name": "ipython",
    "version": 3
   },
   "file_extension": ".py",
   "mimetype": "text/x-python",
   "name": "python",
   "nbconvert_exporter": "python",
   "pygments_lexer": "ipython3",
   "version": "3.9.16"
  }
 },
 "nbformat": 4,
 "nbformat_minor": 5
}
