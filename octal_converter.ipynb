{
 "cells": [
  {
   "cell_type": "code",
   "execution_count": 25,
   "id": "9f61cebf-6a9f-4541-9a4e-cfc84948d244",
   "metadata": {},
   "outputs": [
    {
     "name": "stdout",
     "output_type": "stream",
     "text": [
      "octal: 2323\n",
      "decimal: 1235\n"
     ]
    }
   ],
   "source": [
    "# looping\n",
    "\n",
    "octal = str(2323)\n",
    "decimal = 0\n",
    "\n",
    "for i in range(len(octal)):\n",
    "    # print(octal[len(octal) - 1 - i],i)\n",
    "    decimal += int(octal[len(octal) - 1 - i]) * (8 ** i)\n",
    "    # print(decimal)\n",
    "\n",
    "print(\"octal: \" + str(octal))\n",
    "print(\"decimal: \" + str(decimal))"
   ]
  },
  {
   "cell_type": "code",
   "execution_count": 19,
   "id": "e8003b88-c85f-4128-82e3-a31660979d6a",
   "metadata": {},
   "outputs": [
    {
     "name": "stdout",
     "output_type": "stream",
     "text": [
      "decimal: 1235\n",
      "octal: 2323\n"
     ]
    }
   ],
   "source": [
    "# looping\n",
    "\n",
    "decimal = 1235\n",
    "print(\"decimal: \" + str(decimal))\n",
    "octal = \"\"\n",
    "\n",
    "while decimal >= 8:\n",
    "    remainder = decimal % 8\n",
    "    decimal = decimal // 8\n",
    "    octal = str(remainder) + octal\n",
    "\n",
    "octal = str(decimal) + octal\n",
    "\n",
    "print(\"octal: \" + octal)"
   ]
  },
  {
   "cell_type": "code",
   "execution_count": 27,
   "id": "91b18913-f740-4e0d-a086-051a684bbfe2",
   "metadata": {},
   "outputs": [
    {
     "name": "stdout",
     "output_type": "stream",
     "text": [
      "octal: 2323\n",
      "decimal: 1235\n"
     ]
    }
   ],
   "source": [
    "# no looping\n",
    "\n",
    "def todecimal(octal, acc):\n",
    "    if octal == \"\": return acc\n",
    "    acc += int(octal[0]) * (8 ** (len(octal) - 1))\n",
    "    return todecimal(octal[1::],acc) # recursion!\n",
    "    \n",
    "octal = str(2323)\n",
    "print(\"octal: \" + str(octal))\n",
    "print(\"decimal: \" + str(todecimal(octal,0)))"
   ]
  },
  {
   "cell_type": "code",
   "execution_count": 30,
   "id": "8fc9b0bd-42fb-4f1b-8eda-bde789c088c1",
   "metadata": {},
   "outputs": [
    {
     "name": "stdout",
     "output_type": "stream",
     "text": [
      "decimal: 1235\n",
      "octal: 2323\n"
     ]
    }
   ],
   "source": [
    "# no looping\n",
    "\n",
    "decimal = 1235\n",
    "print(\"decimal: \" + str(decimal))\n",
    "\n",
    "def tooctal(decimal,acc):\n",
    "    if decimal < 8: return str(decimal) + acc\n",
    "    remainder = decimal % 8\n",
    "    return tooctal(decimal // 8, str(remainder) + acc)\n",
    "\n",
    "print(\"octal: \" + tooctal(decimal,\"\"))"
   ]
  },
  {
   "cell_type": "code",
   "execution_count": null,
   "id": "7ebe5d4c-a4f1-46f7-9d8c-43bc5b4c1bc2",
   "metadata": {},
   "outputs": [],
   "source": []
  }
 ],
 "metadata": {
  "kernelspec": {
   "display_name": "Python 3 (ipykernel)",
   "language": "python",
   "name": "python3"
  },
  "language_info": {
   "codemirror_mode": {
    "name": "ipython",
    "version": 3
   },
   "file_extension": ".py",
   "mimetype": "text/x-python",
   "name": "python",
   "nbconvert_exporter": "python",
   "pygments_lexer": "ipython3",
   "version": "3.9.16"
  }
 },
 "nbformat": 4,
 "nbformat_minor": 5
}
